{
 "cells": [
  {
   "cell_type": "code",
   "execution_count": 2,
   "id": "63d82828",
   "metadata": {},
   "outputs": [],
   "source": [
    "#Importing the necessary libraries\n",
    "import numpy as np\n",
    "import pandas as pd\n",
    "import matplotlib.pyplot as plt\n",
    "import os\n",
    "from sklearn.ensemble import RandomForestClassifier,BaggingClassifier,AdaBoostClassifier\n",
    "from sklearn.tree import DecisionTreeClassifier\n",
    "from sklearn.metrics import accuracy_score,confusion_matrix,classification_report,roc_auc_score, roc_curve\n",
    "from sklearn.model_selection import train_test_split, GridSearchCV"
   ]
  },
  {
   "cell_type": "code",
   "execution_count": 2,
   "id": "32740914",
   "metadata": {},
   "outputs": [
    {
     "data": {
      "text/plain": [
       "'D:\\\\Praxis Business School\\\\Second Term\\\\Advanced Machine Learning\\\\Practice'"
      ]
     },
     "execution_count": 2,
     "metadata": {},
     "output_type": "execute_result"
    }
   ],
   "source": [
    "os.getcwd()"
   ]
  },
  {
   "cell_type": "code",
   "execution_count": 3,
   "id": "3204a1c9",
   "metadata": {},
   "outputs": [],
   "source": [
    "#Reading the file\n",
    "heart = pd.read_csv('heart.csv')"
   ]
  },
  {
   "cell_type": "code",
   "execution_count": 4,
   "id": "9ba72144",
   "metadata": {},
   "outputs": [
    {
     "data": {
      "text/plain": [
       "(1025, 14)"
      ]
     },
     "execution_count": 4,
     "metadata": {},
     "output_type": "execute_result"
    }
   ],
   "source": [
    "#Getting shape of the dataframe\n",
    "heart.shape"
   ]
  },
  {
   "cell_type": "code",
   "execution_count": 5,
   "id": "76ae4d72",
   "metadata": {},
   "outputs": [
    {
     "data": {
      "text/html": [
       "<div>\n",
       "<style scoped>\n",
       "    .dataframe tbody tr th:only-of-type {\n",
       "        vertical-align: middle;\n",
       "    }\n",
       "\n",
       "    .dataframe tbody tr th {\n",
       "        vertical-align: top;\n",
       "    }\n",
       "\n",
       "    .dataframe thead th {\n",
       "        text-align: right;\n",
       "    }\n",
       "</style>\n",
       "<table border=\"1\" class=\"dataframe\">\n",
       "  <thead>\n",
       "    <tr style=\"text-align: right;\">\n",
       "      <th></th>\n",
       "      <th>age</th>\n",
       "      <th>sex</th>\n",
       "      <th>cp</th>\n",
       "      <th>trestbps</th>\n",
       "      <th>chol</th>\n",
       "      <th>fbs</th>\n",
       "      <th>restecg</th>\n",
       "      <th>thalach</th>\n",
       "      <th>exang</th>\n",
       "      <th>oldpeak</th>\n",
       "      <th>slope</th>\n",
       "      <th>ca</th>\n",
       "      <th>thal</th>\n",
       "      <th>target</th>\n",
       "    </tr>\n",
       "  </thead>\n",
       "  <tbody>\n",
       "    <tr>\n",
       "      <th>461</th>\n",
       "      <td>48</td>\n",
       "      <td>1</td>\n",
       "      <td>2</td>\n",
       "      <td>124</td>\n",
       "      <td>255</td>\n",
       "      <td>1</td>\n",
       "      <td>1</td>\n",
       "      <td>175</td>\n",
       "      <td>0</td>\n",
       "      <td>0.0</td>\n",
       "      <td>2</td>\n",
       "      <td>2</td>\n",
       "      <td>2</td>\n",
       "      <td>1</td>\n",
       "    </tr>\n",
       "    <tr>\n",
       "      <th>502</th>\n",
       "      <td>46</td>\n",
       "      <td>0</td>\n",
       "      <td>2</td>\n",
       "      <td>142</td>\n",
       "      <td>177</td>\n",
       "      <td>0</td>\n",
       "      <td>0</td>\n",
       "      <td>160</td>\n",
       "      <td>1</td>\n",
       "      <td>1.4</td>\n",
       "      <td>0</td>\n",
       "      <td>0</td>\n",
       "      <td>2</td>\n",
       "      <td>1</td>\n",
       "    </tr>\n",
       "    <tr>\n",
       "      <th>28</th>\n",
       "      <td>56</td>\n",
       "      <td>1</td>\n",
       "      <td>2</td>\n",
       "      <td>130</td>\n",
       "      <td>256</td>\n",
       "      <td>1</td>\n",
       "      <td>0</td>\n",
       "      <td>142</td>\n",
       "      <td>1</td>\n",
       "      <td>0.6</td>\n",
       "      <td>1</td>\n",
       "      <td>1</td>\n",
       "      <td>1</td>\n",
       "      <td>0</td>\n",
       "    </tr>\n",
       "    <tr>\n",
       "      <th>926</th>\n",
       "      <td>54</td>\n",
       "      <td>1</td>\n",
       "      <td>0</td>\n",
       "      <td>110</td>\n",
       "      <td>206</td>\n",
       "      <td>0</td>\n",
       "      <td>0</td>\n",
       "      <td>108</td>\n",
       "      <td>1</td>\n",
       "      <td>0.0</td>\n",
       "      <td>1</td>\n",
       "      <td>1</td>\n",
       "      <td>2</td>\n",
       "      <td>0</td>\n",
       "    </tr>\n",
       "    <tr>\n",
       "      <th>588</th>\n",
       "      <td>61</td>\n",
       "      <td>0</td>\n",
       "      <td>0</td>\n",
       "      <td>145</td>\n",
       "      <td>307</td>\n",
       "      <td>0</td>\n",
       "      <td>0</td>\n",
       "      <td>146</td>\n",
       "      <td>1</td>\n",
       "      <td>1.0</td>\n",
       "      <td>1</td>\n",
       "      <td>0</td>\n",
       "      <td>3</td>\n",
       "      <td>0</td>\n",
       "    </tr>\n",
       "  </tbody>\n",
       "</table>\n",
       "</div>"
      ],
      "text/plain": [
       "     age  sex  cp  trestbps  chol  fbs  restecg  thalach  exang  oldpeak  \\\n",
       "461   48    1   2       124   255    1        1      175      0      0.0   \n",
       "502   46    0   2       142   177    0        0      160      1      1.4   \n",
       "28    56    1   2       130   256    1        0      142      1      0.6   \n",
       "926   54    1   0       110   206    0        0      108      1      0.0   \n",
       "588   61    0   0       145   307    0        0      146      1      1.0   \n",
       "\n",
       "     slope  ca  thal  target  \n",
       "461      2   2     2       1  \n",
       "502      0   0     2       1  \n",
       "28       1   1     1       0  \n",
       "926      1   1     2       0  \n",
       "588      1   0     3       0  "
      ]
     },
     "execution_count": 5,
     "metadata": {},
     "output_type": "execute_result"
    }
   ],
   "source": [
    "heart.sample(5)"
   ]
  },
  {
   "cell_type": "code",
   "execution_count": 6,
   "id": "442a0315",
   "metadata": {},
   "outputs": [
    {
     "data": {
      "text/plain": [
       "1    526\n",
       "0    499\n",
       "Name: target, dtype: int64"
      ]
     },
     "execution_count": 6,
     "metadata": {},
     "output_type": "execute_result"
    }
   ],
   "source": [
    "#Checking the count of the classes\n",
    "heart.target.value_counts()"
   ]
  },
  {
   "cell_type": "code",
   "execution_count": 7,
   "id": "7caa1047",
   "metadata": {},
   "outputs": [
    {
     "data": {
      "text/plain": [
       "age         0\n",
       "sex         0\n",
       "cp          0\n",
       "trestbps    0\n",
       "chol        0\n",
       "fbs         0\n",
       "restecg     0\n",
       "thalach     0\n",
       "exang       0\n",
       "oldpeak     0\n",
       "slope       0\n",
       "ca          0\n",
       "thal        0\n",
       "target      0\n",
       "dtype: int64"
      ]
     },
     "execution_count": 7,
     "metadata": {},
     "output_type": "execute_result"
    }
   ],
   "source": [
    "#Checking if there are any missing values\n",
    "heart.isna().sum()"
   ]
  },
  {
   "cell_type": "code",
   "execution_count": 8,
   "id": "063f27b7",
   "metadata": {},
   "outputs": [
    {
     "data": {
      "text/html": [
       "<div>\n",
       "<style scoped>\n",
       "    .dataframe tbody tr th:only-of-type {\n",
       "        vertical-align: middle;\n",
       "    }\n",
       "\n",
       "    .dataframe tbody tr th {\n",
       "        vertical-align: top;\n",
       "    }\n",
       "\n",
       "    .dataframe thead th {\n",
       "        text-align: right;\n",
       "    }\n",
       "</style>\n",
       "<table border=\"1\" class=\"dataframe\">\n",
       "  <thead>\n",
       "    <tr style=\"text-align: right;\">\n",
       "      <th></th>\n",
       "      <th>age</th>\n",
       "      <th>sex</th>\n",
       "      <th>cp</th>\n",
       "      <th>trestbps</th>\n",
       "      <th>chol</th>\n",
       "      <th>fbs</th>\n",
       "      <th>restecg</th>\n",
       "      <th>thalach</th>\n",
       "      <th>exang</th>\n",
       "      <th>oldpeak</th>\n",
       "      <th>slope</th>\n",
       "      <th>ca</th>\n",
       "      <th>thal</th>\n",
       "    </tr>\n",
       "  </thead>\n",
       "  <tbody>\n",
       "    <tr>\n",
       "      <th>0</th>\n",
       "      <td>52</td>\n",
       "      <td>1</td>\n",
       "      <td>0</td>\n",
       "      <td>125</td>\n",
       "      <td>212</td>\n",
       "      <td>0</td>\n",
       "      <td>1</td>\n",
       "      <td>168</td>\n",
       "      <td>0</td>\n",
       "      <td>1.0</td>\n",
       "      <td>2</td>\n",
       "      <td>2</td>\n",
       "      <td>3</td>\n",
       "    </tr>\n",
       "    <tr>\n",
       "      <th>1</th>\n",
       "      <td>53</td>\n",
       "      <td>1</td>\n",
       "      <td>0</td>\n",
       "      <td>140</td>\n",
       "      <td>203</td>\n",
       "      <td>1</td>\n",
       "      <td>0</td>\n",
       "      <td>155</td>\n",
       "      <td>1</td>\n",
       "      <td>3.1</td>\n",
       "      <td>0</td>\n",
       "      <td>0</td>\n",
       "      <td>3</td>\n",
       "    </tr>\n",
       "    <tr>\n",
       "      <th>2</th>\n",
       "      <td>70</td>\n",
       "      <td>1</td>\n",
       "      <td>0</td>\n",
       "      <td>145</td>\n",
       "      <td>174</td>\n",
       "      <td>0</td>\n",
       "      <td>1</td>\n",
       "      <td>125</td>\n",
       "      <td>1</td>\n",
       "      <td>2.6</td>\n",
       "      <td>0</td>\n",
       "      <td>0</td>\n",
       "      <td>3</td>\n",
       "    </tr>\n",
       "    <tr>\n",
       "      <th>3</th>\n",
       "      <td>61</td>\n",
       "      <td>1</td>\n",
       "      <td>0</td>\n",
       "      <td>148</td>\n",
       "      <td>203</td>\n",
       "      <td>0</td>\n",
       "      <td>1</td>\n",
       "      <td>161</td>\n",
       "      <td>0</td>\n",
       "      <td>0.0</td>\n",
       "      <td>2</td>\n",
       "      <td>1</td>\n",
       "      <td>3</td>\n",
       "    </tr>\n",
       "    <tr>\n",
       "      <th>4</th>\n",
       "      <td>62</td>\n",
       "      <td>0</td>\n",
       "      <td>0</td>\n",
       "      <td>138</td>\n",
       "      <td>294</td>\n",
       "      <td>1</td>\n",
       "      <td>1</td>\n",
       "      <td>106</td>\n",
       "      <td>0</td>\n",
       "      <td>1.9</td>\n",
       "      <td>1</td>\n",
       "      <td>3</td>\n",
       "      <td>2</td>\n",
       "    </tr>\n",
       "  </tbody>\n",
       "</table>\n",
       "</div>"
      ],
      "text/plain": [
       "   age  sex  cp  trestbps  chol  fbs  restecg  thalach  exang  oldpeak  slope  \\\n",
       "0   52    1   0       125   212    0        1      168      0      1.0      2   \n",
       "1   53    1   0       140   203    1        0      155      1      3.1      0   \n",
       "2   70    1   0       145   174    0        1      125      1      2.6      0   \n",
       "3   61    1   0       148   203    0        1      161      0      0.0      2   \n",
       "4   62    0   0       138   294    1        1      106      0      1.9      1   \n",
       "\n",
       "   ca  thal  \n",
       "0   2     3  \n",
       "1   0     3  \n",
       "2   0     3  \n",
       "3   1     3  \n",
       "4   3     2  "
      ]
     },
     "execution_count": 8,
     "metadata": {},
     "output_type": "execute_result"
    }
   ],
   "source": [
    "#Separating the independent varaibles\n",
    "x = heart.drop('target',axis=1)\n",
    "x.head()"
   ]
  },
  {
   "cell_type": "code",
   "execution_count": 9,
   "id": "9c0fd800",
   "metadata": {},
   "outputs": [
    {
     "data": {
      "text/html": [
       "<div>\n",
       "<style scoped>\n",
       "    .dataframe tbody tr th:only-of-type {\n",
       "        vertical-align: middle;\n",
       "    }\n",
       "\n",
       "    .dataframe tbody tr th {\n",
       "        vertical-align: top;\n",
       "    }\n",
       "\n",
       "    .dataframe thead th {\n",
       "        text-align: right;\n",
       "    }\n",
       "</style>\n",
       "<table border=\"1\" class=\"dataframe\">\n",
       "  <thead>\n",
       "    <tr style=\"text-align: right;\">\n",
       "      <th></th>\n",
       "      <th>target</th>\n",
       "    </tr>\n",
       "  </thead>\n",
       "  <tbody>\n",
       "    <tr>\n",
       "      <th>0</th>\n",
       "      <td>0</td>\n",
       "    </tr>\n",
       "    <tr>\n",
       "      <th>1</th>\n",
       "      <td>0</td>\n",
       "    </tr>\n",
       "    <tr>\n",
       "      <th>2</th>\n",
       "      <td>0</td>\n",
       "    </tr>\n",
       "    <tr>\n",
       "      <th>3</th>\n",
       "      <td>0</td>\n",
       "    </tr>\n",
       "    <tr>\n",
       "      <th>4</th>\n",
       "      <td>0</td>\n",
       "    </tr>\n",
       "  </tbody>\n",
       "</table>\n",
       "</div>"
      ],
      "text/plain": [
       "   target\n",
       "0       0\n",
       "1       0\n",
       "2       0\n",
       "3       0\n",
       "4       0"
      ]
     },
     "execution_count": 9,
     "metadata": {},
     "output_type": "execute_result"
    }
   ],
   "source": [
    "#Separating the target varaible\n",
    "y = heart[['target']]\n",
    "y.head()"
   ]
  },
  {
   "cell_type": "code",
   "execution_count": 22,
   "id": "08eb4178",
   "metadata": {},
   "outputs": [],
   "source": [
    "#Separating the dataset into training and testing dataset\n",
    "x_train,x_test,y_train,y_test = train_test_split(x,y,test_size = 0.3, random_state = 4)"
   ]
  },
  {
   "cell_type": "code",
   "execution_count": 23,
   "id": "14f96bc4",
   "metadata": {},
   "outputs": [],
   "source": [
    "y_train = np.array(y_train['target'])\n",
    "y_test1 = np.array(y_test['target'])"
   ]
  },
  {
   "cell_type": "code",
   "execution_count": 24,
   "id": "1041a264",
   "metadata": {},
   "outputs": [
    {
     "data": {
      "text/plain": [
       "(717,)"
      ]
     },
     "execution_count": 24,
     "metadata": {},
     "output_type": "execute_result"
    }
   ],
   "source": [
    "y_train.shape"
   ]
  },
  {
   "cell_type": "code",
   "execution_count": 25,
   "id": "4ca855a1",
   "metadata": {},
   "outputs": [
    {
     "data": {
      "text/plain": [
       "array([0, 1, 0, 1, 1, 1, 1, 0, 1, 0, 1, 1, 0, 1, 1, 0, 1, 1, 0, 1, 1, 0,\n",
       "       0, 0, 0, 0, 1, 0, 0, 0, 0, 0, 0, 1, 0, 0, 0, 1, 1, 0, 0, 1, 1, 0,\n",
       "       1, 1, 0, 1, 0, 1, 0, 1, 0, 1, 1, 1, 1, 1, 0, 0, 0, 1, 1, 0, 1, 1,\n",
       "       1, 1, 1, 1, 1, 1, 1, 1, 0, 0, 0, 0, 0, 0, 1, 0, 1, 0, 1, 0, 0, 0,\n",
       "       1, 1, 1, 0, 1, 0, 0, 0, 1, 1, 0, 0, 1, 0, 0, 0, 0, 0, 1, 0, 1, 1,\n",
       "       0, 1, 1, 0, 0, 0, 1, 0, 0, 0, 1, 0, 0, 1, 1, 1, 1, 0, 1, 1, 0, 0,\n",
       "       1, 0, 1, 0, 1, 0, 0, 1, 0, 1, 1, 0, 0, 0, 0, 0, 1, 0, 0, 1, 1, 1,\n",
       "       0, 0, 0, 0, 1, 0, 0, 0, 1, 0, 1, 1, 1, 1, 1, 0, 1, 1, 0, 0, 0, 0,\n",
       "       0, 1, 1, 0, 1, 1, 0, 1, 1, 1, 1, 1, 0, 0, 1, 0, 1, 0, 0, 0, 1, 0,\n",
       "       1, 1, 1, 1, 1, 1, 1, 1, 1, 0, 0, 1, 1, 1, 1, 1, 1, 0, 0, 1, 1, 1,\n",
       "       1, 0, 0, 1, 0, 0, 1, 1, 0, 0, 0, 1, 0, 1, 1, 0, 1, 1, 1, 0, 1, 0,\n",
       "       1, 1, 1, 0, 0, 1, 0, 1, 1, 0, 1, 0, 1, 1, 1, 1, 1, 0, 1, 0, 0, 0,\n",
       "       1, 0, 0, 1, 0, 1, 1, 0, 1, 1, 0, 1, 1, 0, 1, 0, 1, 0, 1, 1, 1, 1,\n",
       "       0, 0, 1, 1, 1, 0, 0, 0, 1, 1, 0, 1, 1, 1, 0, 0, 0, 1, 0, 1, 0, 0,\n",
       "       0, 1, 1, 1, 0, 0, 0, 0, 1, 0, 1, 1, 0, 0, 1, 0, 0, 0, 1, 0, 1, 0,\n",
       "       0, 1, 0, 1, 1, 1, 0, 1, 0, 0, 0, 1, 1, 1, 1, 1, 1, 0, 1, 1, 0, 0,\n",
       "       0, 1, 1, 0, 1, 1, 0, 0, 0, 0, 0, 1, 1, 1, 0, 0, 1, 0, 1, 1, 1, 0,\n",
       "       0, 1, 0, 1, 1, 0, 0, 1, 0, 1, 1, 1, 1, 1, 1, 0, 0, 1, 0, 0, 0, 0,\n",
       "       1, 0, 1, 0, 0, 0, 0, 1, 1, 0, 0, 1, 1, 1, 1, 0, 0, 1, 0, 1, 0, 0,\n",
       "       0, 0, 0, 1, 1, 0, 0, 0, 1, 1, 1, 1, 0, 0, 1, 1, 1, 1, 1, 0, 1, 0,\n",
       "       1, 1, 1, 1, 1, 1, 0, 1, 1, 0, 0, 1, 1, 0, 1, 1, 0, 0, 0, 1, 0, 0,\n",
       "       0, 0, 1, 1, 1, 0, 1, 0, 1, 1, 1, 1, 0, 1, 1, 0, 1, 1, 1, 1, 1, 1,\n",
       "       1, 0, 1, 0, 0, 0, 1, 1, 1, 1, 0, 1, 1, 0, 0, 1, 1, 1, 1, 0, 1, 0,\n",
       "       0, 0, 0, 0, 0, 0, 1, 1, 0, 1, 1, 0, 0, 1, 1, 0, 1, 1, 1, 0, 1, 1,\n",
       "       0, 1, 1, 0, 1, 1, 0, 1, 1, 0, 1, 0, 1, 1, 1, 1, 0, 1, 1, 0, 1, 0,\n",
       "       0, 1, 0, 0, 0, 0, 1, 0, 0, 0, 1, 1, 1, 0, 1, 1, 0, 0, 0, 1, 1, 1,\n",
       "       1, 0, 0, 0, 1, 1, 1, 0, 1, 1, 0, 0, 0, 1, 1, 1, 1, 1, 0, 0, 0, 0,\n",
       "       1, 0, 1, 0, 0, 1, 1, 1, 0, 1, 1, 0, 0, 0, 0, 0, 0, 0, 0, 0, 1, 0,\n",
       "       0, 1, 0, 0, 1, 0, 0, 0, 0, 1, 0, 1, 1, 1, 1, 1, 1, 1, 0, 1, 1, 1,\n",
       "       0, 0, 1, 0, 0, 1, 1, 1, 0, 0, 0, 0, 0, 0, 1, 1, 0, 1, 1, 1, 1, 0,\n",
       "       1, 0, 0, 0, 0, 0, 0, 0, 1, 1, 1, 0, 1, 1, 1, 1, 0, 1, 1, 0, 0, 0,\n",
       "       0, 1, 0, 0, 1, 1, 1, 1, 1, 0, 0, 0, 1, 0, 1, 1, 0, 1, 1, 0, 1, 0,\n",
       "       0, 1, 0, 0, 0, 1, 0, 1, 1, 1, 0, 0, 0], dtype=int64)"
      ]
     },
     "execution_count": 25,
     "metadata": {},
     "output_type": "execute_result"
    }
   ],
   "source": [
    "y_train"
   ]
  },
  {
   "cell_type": "code",
   "execution_count": 26,
   "id": "7530a20e",
   "metadata": {},
   "outputs": [
    {
     "data": {
      "text/plain": [
       "(308,)"
      ]
     },
     "execution_count": 26,
     "metadata": {},
     "output_type": "execute_result"
    }
   ],
   "source": [
    "y_test1.shape"
   ]
  },
  {
   "cell_type": "code",
   "execution_count": 27,
   "id": "29d172b3",
   "metadata": {},
   "outputs": [
    {
     "data": {
      "text/plain": [
       "(308, 1)"
      ]
     },
     "execution_count": 27,
     "metadata": {},
     "output_type": "execute_result"
    }
   ],
   "source": [
    "y_test.shape"
   ]
  },
  {
   "cell_type": "code",
   "execution_count": 28,
   "id": "ccec4705",
   "metadata": {},
   "outputs": [
    {
     "data": {
      "text/html": [
       "<div>\n",
       "<style scoped>\n",
       "    .dataframe tbody tr th:only-of-type {\n",
       "        vertical-align: middle;\n",
       "    }\n",
       "\n",
       "    .dataframe tbody tr th {\n",
       "        vertical-align: top;\n",
       "    }\n",
       "\n",
       "    .dataframe thead th {\n",
       "        text-align: right;\n",
       "    }\n",
       "</style>\n",
       "<table border=\"1\" class=\"dataframe\">\n",
       "  <thead>\n",
       "    <tr style=\"text-align: right;\">\n",
       "      <th></th>\n",
       "      <th>target</th>\n",
       "    </tr>\n",
       "  </thead>\n",
       "  <tbody>\n",
       "    <tr>\n",
       "      <th>932</th>\n",
       "      <td>1</td>\n",
       "    </tr>\n",
       "    <tr>\n",
       "      <th>76</th>\n",
       "      <td>1</td>\n",
       "    </tr>\n",
       "    <tr>\n",
       "      <th>353</th>\n",
       "      <td>1</td>\n",
       "    </tr>\n",
       "    <tr>\n",
       "      <th>621</th>\n",
       "      <td>0</td>\n",
       "    </tr>\n",
       "    <tr>\n",
       "      <th>830</th>\n",
       "      <td>1</td>\n",
       "    </tr>\n",
       "    <tr>\n",
       "      <th>...</th>\n",
       "      <td>...</td>\n",
       "    </tr>\n",
       "    <tr>\n",
       "      <th>288</th>\n",
       "      <td>1</td>\n",
       "    </tr>\n",
       "    <tr>\n",
       "      <th>398</th>\n",
       "      <td>1</td>\n",
       "    </tr>\n",
       "    <tr>\n",
       "      <th>939</th>\n",
       "      <td>1</td>\n",
       "    </tr>\n",
       "    <tr>\n",
       "      <th>592</th>\n",
       "      <td>0</td>\n",
       "    </tr>\n",
       "    <tr>\n",
       "      <th>379</th>\n",
       "      <td>1</td>\n",
       "    </tr>\n",
       "  </tbody>\n",
       "</table>\n",
       "<p>308 rows × 1 columns</p>\n",
       "</div>"
      ],
      "text/plain": [
       "     target\n",
       "932       1\n",
       "76        1\n",
       "353       1\n",
       "621       0\n",
       "830       1\n",
       "..      ...\n",
       "288       1\n",
       "398       1\n",
       "939       1\n",
       "592       0\n",
       "379       1\n",
       "\n",
       "[308 rows x 1 columns]"
      ]
     },
     "execution_count": 28,
     "metadata": {},
     "output_type": "execute_result"
    }
   ],
   "source": [
    "y_test"
   ]
  },
  {
   "cell_type": "markdown",
   "id": "4ded4a5d",
   "metadata": {},
   "source": [
    "### A) Decision Tree Classifier\n",
    "### 1) Without Hyper parameter Optimization"
   ]
  },
  {
   "cell_type": "code",
   "execution_count": 29,
   "id": "b7340b00",
   "metadata": {},
   "outputs": [],
   "source": [
    "#Fitting a decision tree with default hyper parameters\n",
    "tree = DecisionTreeClassifier()\n",
    "tree.fit(x_train,y_train)\n",
    "pred_tree = tree.predict(x_test)"
   ]
  },
  {
   "cell_type": "code",
   "execution_count": 30,
   "id": "4b55acce",
   "metadata": {},
   "outputs": [
    {
     "name": "stdout",
     "output_type": "stream",
     "text": [
      "Checking different metrics for decision tree model with default hyper parameters:\n",
      "\n",
      "Training accuracy:  1.0\n",
      "Testing accuracy:  0.9902597402597403\n",
      "Confusion Matrix: \n",
      " [[156   0]\n",
      " [  3 149]]\n",
      "ROC AUC score:  0.9901315789473684\n",
      "Classification Report: \n",
      "               precision    recall  f1-score   support\n",
      "\n",
      "           0       0.98      1.00      0.99       156\n",
      "           1       1.00      0.98      0.99       152\n",
      "\n",
      "    accuracy                           0.99       308\n",
      "   macro avg       0.99      0.99      0.99       308\n",
      "weighted avg       0.99      0.99      0.99       308\n",
      "\n"
     ]
    }
   ],
   "source": [
    "#Checking different metrics for decision tree model with default hyper parameters\n",
    "print('Checking different metrics for decision tree model with default hyper parameters:\\n')\n",
    "print(\"Training accuracy: \",tree.score(x_train,y_train))\n",
    "\n",
    "acc_score = accuracy_score(y_test, pred_tree)\n",
    "print('Testing accuracy: ',acc_score)\n",
    "\n",
    "conf_mat = confusion_matrix(y_test, pred_tree)\n",
    "print('Confusion Matrix: \\n',conf_mat)\n",
    "\n",
    "roc_auc = roc_auc_score(y_test,pred_tree)\n",
    "print('ROC AUC score: ',roc_auc)\n",
    "\n",
    "class_rep2 = classification_report(y_test,pred_tree)\n",
    "print('Classification Report: \\n',class_rep2)"
   ]
  },
  {
   "cell_type": "markdown",
   "id": "79546ded",
   "metadata": {},
   "source": [
    "Observations & Conclusions:\n",
    "We can see that the training accuracy of Decision Tree with default hyperparameters is 1 i.e. 100% accuracy. Whereas when we fit the same model on testing data, the accuracy reduces to 99% approx. Clearly the model has overfit the training data and also the variance is very high i.e. the model is behaving differently for different samples."
   ]
  },
  {
   "cell_type": "markdown",
   "id": "aaab767c",
   "metadata": {},
   "source": [
    "# With Hyper parameter Optimization"
   ]
  },
  {
   "cell_type": "code",
   "execution_count": 16,
   "id": "13aaca86",
   "metadata": {},
   "outputs": [
    {
     "name": "stdout",
     "output_type": "stream",
     "text": [
      "Fitting 3 folds for each of 400 candidates, totalling 1200 fits\n"
     ]
    }
   ],
   "source": [
    "#Setting values for the parameters\n",
    "#n_estimators = [100, 300, 500, 800, 1200]\n",
    "max_depth = [5, 10, 15, 25, 30]\n",
    "min_samples_split = [2, 5, 10, 15, 100]\n",
    "min_samples_leaf = [1, 2, 5, 10]\n",
    "max_features = [1, 2, 5, 10]\n",
    "\n",
    "#Creating a dictionary for the hyper parameters\n",
    "hyperT = dict(max_depth = max_depth, min_samples_split = min_samples_split, \n",
    "              min_samples_leaf = min_samples_leaf, max_features=max_features)\n",
    "\n",
    "#Applying GridSearchCV to get the best value for hyperparameters\n",
    "gridT = GridSearchCV(tree, hyperT, cv = 3, verbose = 1, n_jobs = -1)\n",
    "bestT = gridT.fit(x_train, y_train)"
   ]
  },
  {
   "cell_type": "code",
   "execution_count": 17,
   "id": "9d0e3899",
   "metadata": {},
   "outputs": [
    {
     "name": "stdout",
     "output_type": "stream",
     "text": [
      "The best hyper parameters are: \n",
      " {'max_depth': 10, 'max_features': 5, 'min_samples_leaf': 1, 'min_samples_split': 2}\n"
     ]
    }
   ],
   "source": [
    "#Printing the best hyperparameters\n",
    "print('The best hyper parameters are: \\n',gridT.best_params_)"
   ]
  },
  {
   "cell_type": "markdown",
   "id": "4d459fb6",
   "metadata": {},
   "source": [
    "# Fitting Descision Tree with best Hyper parameters"
   ]
  },
  {
   "cell_type": "code",
   "execution_count": 20,
   "id": "b87c0b2e",
   "metadata": {},
   "outputs": [],
   "source": [
    "#Fitting the decision tree model with the best hyper parameters obtained through GridSearchCV\n",
    "tree1 = DecisionTreeClassifier(criterion='gini',splitter='random',max_depth=10, min_samples_leaf=1,\n",
    "                               min_samples_split=2, max_features=5)\n",
    "tree1.fit(x_train,y_train)\n",
    "pred_tree1 = tree1.predict(x_test)"
   ]
  },
  {
   "cell_type": "code",
   "execution_count": 21,
   "id": "33b1ec77",
   "metadata": {},
   "outputs": [
    {
     "name": "stdout",
     "output_type": "stream",
     "text": [
      "Checking different metrics for decision tree model after tuning the hyperparameters:\n",
      "\n",
      "Training accuracy:  0.9581589958158996\n",
      "Testing accuracy:  0.922077922077922\n",
      "Confusion Matrix: \n",
      " [[145  11]\n",
      " [ 13 139]]\n",
      "ROC AUC score:  0.9219804318488529\n",
      "Classification Report: \n",
      "               precision    recall  f1-score   support\n",
      "\n",
      "           0       0.92      0.93      0.92       156\n",
      "           1       0.93      0.91      0.92       152\n",
      "\n",
      "    accuracy                           0.92       308\n",
      "   macro avg       0.92      0.92      0.92       308\n",
      "weighted avg       0.92      0.92      0.92       308\n",
      "\n"
     ]
    }
   ],
   "source": [
    "#Checking different metrics for decision tree model after tuning the hyperparameters\n",
    "print('Checking different metrics for decision tree model after tuning the hyperparameters:\\n')\n",
    "print(\"Training accuracy: \",tree1.score(x_train,y_train))\n",
    "acc_score = accuracy_score(y_test, pred_tree1)\n",
    "print('Testing accuracy: ',acc_score)\n",
    "conf_mat = confusion_matrix(y_test, pred_tree1)\n",
    "print('Confusion Matrix: \\n',conf_mat)\n",
    "roc_auc = roc_auc_score(y_test1,pred_tree1)\n",
    "print('ROC AUC score: ',roc_auc)\n",
    "class_rep2 = classification_report(y_test,pred_tree1)\n",
    "print('Classification Report: \\n',class_rep2)"
   ]
  },
  {
   "cell_type": "markdown",
   "id": "7071f4e9",
   "metadata": {},
   "source": [
    "Observations & Conclusions:\n",
    "Now, when we applied the GridSearchCV algorithm to our model which is used to select the best hyperparameters, we see that the training accuracy is 95% aprox and testing accuracy is 92%. The training accuracy has reduced after tuning the hyperparameters but it has also reduced the overfitting in Decision Tree."
   ]
  },
  {
   "cell_type": "code",
   "execution_count": 31,
   "id": "e3055859",
   "metadata": {},
   "outputs": [
    {
     "name": "stdout",
     "output_type": "stream",
     "text": [
      "ROC AUC curve before and after tuning hyper parameters:\n",
      "\n"
     ]
    },
    {
     "data": {
      "image/png": "[encoded data removed]",
      "text/plain": [
       "<Figure size 432x288 with 1 Axes>"
      ]
     },
     "metadata": {
      "needs_background": "light"
     },
     "output_type": "display_data"
    }
   ],
   "source": [
    "#Plotting the ROC AUC curve before and after tuning hyper parameters\n",
    "print('ROC AUC curve before and after tuning hyper parameters:\\n')\n",
    "fpr_tree,tpr_tree,thre_tree = roc_curve(y_test,pred_tree)\n",
    "fpr_tree1,tpr_tree1,thre_tree1 = roc_curve(y_test1,pred_tree1)\n",
    "plt.clf()\n",
    "ax = plt.subplot(111)\n",
    "ax.plot(fpr_tree, tpr_tree,label=\"Without hyper parameter tuning\")\n",
    "ax.plot(fpr_tree1, tpr_tree1,label=\"With hyper parameter tuning\")\n",
    "plt.xlabel('FPR')\n",
    "plt.ylabel('TPR')\n",
    "plt.title('ROC curve')\n",
    "ax.legend()\n",
    "plt.show()"
   ]
  },
  {
   "cell_type": "markdown",
   "id": "2da75db8",
   "metadata": {},
   "source": [
    "# Plotting validation curves for each hyper parameter"
   ]
  },
  {
   "cell_type": "markdown",
   "id": "417159da",
   "metadata": {},
   "source": [
    "### Max Depth"
   ]
  },
  {
   "cell_type": "code",
   "execution_count": 32,
   "id": "ff19c2e5",
   "metadata": {},
   "outputs": [],
   "source": [
    "#Plotting the validation curve of training and testing scores for max_depth\n",
    "from sklearn.model_selection import validation_curve\n",
    "param_range= max_depth\n",
    "train_scores, test_scores = validation_curve(\n",
    "                                DecisionTreeClassifier(),\n",
    "                                X = x_train, y = y_train, \n",
    "                                param_name = 'max_depth', \n",
    "                                param_range = param_range,cv = 3)"
   ]
  },
  {
   "cell_type": "code",
   "execution_count": 33,
   "id": "b4f0b3e1",
   "metadata": {},
   "outputs": [
    {
     "data": {
      "image/png": "[encoded data removed]",
      "text/plain": [
       "<Figure size 432x288 with 1 Axes>"
      ]
     },
     "metadata": {
      "needs_background": "light"
     },
     "output_type": "display_data"
    }
   ],
   "source": [
    "#Calculate mean and standard deviation for training set\n",
    "train_mean = np.mean(train_scores, axis=1)\n",
    "train_std = np.std(train_scores, axis=1)\n",
    "\n",
    "#Calculate mean and standard deviation for testing set\n",
    "test_mean = np.mean(test_scores, axis=1)\n",
    "test_std = np.std(test_scores, axis=1)\n",
    "\n",
    "#Plot mean accuracy scores for training and testing sets\n",
    "plt.plot(param_range, train_mean, label=\"Training score\", color=\"black\")\n",
    "plt.plot(param_range, test_mean, label=\"Test score\", color=\"dimgrey\")\n",
    "\n",
    "#Create plot\n",
    "plt.title(\"Validation Curve of Max Depth for Decision Tree\")\n",
    "plt.xlabel(\"Value of Maximum Depth\")\n",
    "plt.ylabel(\"Accuracy Score\")\n",
    "plt.tight_layout()\n",
    "plt.legend(loc=\"best\")\n",
    "plt.show()"
   ]
  },
  {
   "cell_type": "markdown",
   "id": "fe802d55",
   "metadata": {},
   "source": [
    "### Minimum Sample Split"
   ]
  },
  {
   "cell_type": "code",
   "execution_count": 34,
   "id": "45ba3f45",
   "metadata": {},
   "outputs": [],
   "source": [
    "#Plotting the validation curve of training and testing scores for min_samples_split\n",
    "from sklearn.model_selection import validation_curve\n",
    "param_range= min_samples_split\n",
    "train_scores, test_scores = validation_curve(\n",
    "                                DecisionTreeClassifier(),\n",
    "                                X = x_train, y = y_train, \n",
    "                                param_name = 'min_samples_split', \n",
    "                                param_range = param_range,cv = 3)"
   ]
  },
  {
   "cell_type": "code",
   "execution_count": 35,
   "id": "d2e14fc3",
   "metadata": {},
   "outputs": [
    {
     "data": {
      "image/png": "[encoded data removed]",
      "text/plain": [
       "<Figure size 432x288 with 1 Axes>"
      ]
     },
     "metadata": {
      "needs_background": "light"
     },
     "output_type": "display_data"
    }
   ],
   "source": [
    "#Calculate mean and standard deviation for training set\n",
    "train_mean = np.mean(train_scores, axis=1)\n",
    "train_std = np.std(train_scores, axis=1)\n",
    "\n",
    "#Calculate mean and standard deviation for testing set\n",
    "test_mean = np.mean(test_scores, axis=1)\n",
    "test_std = np.std(test_scores, axis=1)\n",
    "\n",
    "#Plot mean accuracy scores for training and testing sets\n",
    "plt.plot(param_range, train_mean, label=\"Training score\", color=\"black\")\n",
    "plt.plot(param_range, test_mean, label=\"Test score\", color=\"dimgrey\")\n",
    "\n",
    "#Create plot\n",
    "plt.title(\"Validation Curve of Minimum Sample Split for Decision Tree\")\n",
    "plt.xlabel(\"Value of Minimum Sample Split\")\n",
    "plt.ylabel(\"Accuracy Score\")\n",
    "plt.tight_layout()\n",
    "plt.legend(loc=\"best\")\n",
    "plt.show()"
   ]
  },
  {
   "cell_type": "markdown",
   "id": "f057c800",
   "metadata": {},
   "source": [
    "### Minimum Sample Leaf"
   ]
  },
  {
   "cell_type": "code",
   "execution_count": 36,
   "id": "f12e6e54",
   "metadata": {},
   "outputs": [],
   "source": [
    "#Plotting the validation curve of training and testing scores for min_samples_leaf\n",
    "from sklearn.model_selection import validation_curve\n",
    "param_range= min_samples_leaf\n",
    "train_scores, test_scores = validation_curve(\n",
    "                                DecisionTreeClassifier(),\n",
    "                                X = x_train, y = y_train, \n",
    "                                param_name = 'min_samples_leaf', \n",
    "                                param_range = param_range,cv = 3)"
   ]
  },
  {
   "cell_type": "code",
   "execution_count": 37,
   "id": "2a1510ea",
   "metadata": {},
   "outputs": [
    {
     "data": {
      "image/png": "[encoded data removed]",
      "text/plain": [
       "<Figure size 432x288 with 1 Axes>"
      ]
     },
     "metadata": {
      "needs_background": "light"
     },
     "output_type": "display_data"
    }
   ],
   "source": [
    "#Calculate mean and standard deviation for training set\n",
    "train_mean = np.mean(train_scores, axis=1)\n",
    "train_std = np.std(train_scores, axis=1)\n",
    "\n",
    "#Calculate mean and standard deviation for testing set\n",
    "test_mean = np.mean(test_scores, axis=1)\n",
    "test_std = np.std(test_scores, axis=1)\n",
    "\n",
    "#Plot mean accuracy scores for training and testing sets\n",
    "plt.plot(param_range, train_mean, label=\"Training score\", color=\"black\")\n",
    "plt.plot(param_range, test_mean, label=\"Test score\", color=\"dimgrey\")\n",
    "\n",
    "\n",
    "#Create plot\n",
    "plt.title(\"Validation Curve of Minimum Sample Leaf for Decision Tree\")\n",
    "plt.xlabel(\"Value of Minimum Sample Leaf\")\n",
    "plt.ylabel(\"Accuracy Score\")\n",
    "plt.tight_layout()\n",
    "plt.legend(loc=\"best\")\n",
    "plt.show()"
   ]
  },
  {
   "cell_type": "markdown",
   "id": "b088e839",
   "metadata": {},
   "source": [
    "# Bagging Classifier"
   ]
  },
  {
   "cell_type": "code",
   "execution_count": 38,
   "id": "e564eaed",
   "metadata": {},
   "outputs": [],
   "source": [
    "#Fitting Bagging Classifier model with default hyper parameters\n",
    "bagg = BaggingClassifier()\n",
    "bagg.fit(x_train,y_train)\n",
    "pred_bagg = bagg.predict(x_test)"
   ]
  },
  {
   "cell_type": "code",
   "execution_count": 39,
   "id": "b32bf4cf",
   "metadata": {},
   "outputs": [
    {
     "name": "stdout",
     "output_type": "stream",
     "text": [
      "Checking different metrics for bagging model with default hyper parameters:\n",
      "\n",
      "Training accuracy:  0.99860529986053\n",
      "Testing accuracy:  0.974025974025974\n",
      "Confusion Matrix: \n",
      " [[156   0]\n",
      " [  8 144]]\n",
      "ROC AUC score:  0.9736842105263157\n",
      "Classification Report: \n",
      "               precision    recall  f1-score   support\n",
      "\n",
      "           0       0.95      1.00      0.97       156\n",
      "           1       1.00      0.95      0.97       152\n",
      "\n",
      "    accuracy                           0.97       308\n",
      "   macro avg       0.98      0.97      0.97       308\n",
      "weighted avg       0.98      0.97      0.97       308\n",
      "\n"
     ]
    }
   ],
   "source": [
    "#Checking different metrics for bagging model with default hyper parameters\n",
    "print('Checking different metrics for bagging model with default hyper parameters:\\n')\n",
    "print(\"Training accuracy: \",bagg.score(x_train,y_train))\n",
    "acc_score = accuracy_score(y_test, pred_bagg)\n",
    "print('Testing accuracy: ',acc_score)\n",
    "conf_mat = confusion_matrix(y_test, pred_bagg)\n",
    "print('Confusion Matrix: \\n',conf_mat)\n",
    "roc_auc = roc_auc_score(y_test1,pred_bagg)\n",
    "print('ROC AUC score: ',roc_auc)\n",
    "class_rep2 = classification_report(y_test,pred_bagg)\n",
    "print('Classification Report: \\n',class_rep2)"
   ]
  },
  {
   "cell_type": "markdown",
   "id": "80de73bb",
   "metadata": {},
   "source": [
    "# With Hyper parameter Optimization"
   ]
  },
  {
   "cell_type": "code",
   "execution_count": 40,
   "id": "4fa61550",
   "metadata": {},
   "outputs": [
    {
     "name": "stdout",
     "output_type": "stream",
     "text": [
      "Fitting 3 folds for each of 125 candidates, totalling 375 fits\n"
     ]
    }
   ],
   "source": [
    "#Setting values for the parameters\n",
    "n_estimators = [100, 300, 500, 800, 1200]\n",
    "#max_depth = [5, 10, 15, 25, 30]\n",
    "max_samples = [5, 10, 25, 50, 100]\n",
    "max_features = [1, 2, 5, 10, 13]\n",
    "\n",
    "#Creating a dictionary for the hyper parameters\n",
    "hyperbag = dict(n_estimators = n_estimators, max_samples = max_samples, \n",
    "              max_features = max_features)\n",
    "\n",
    "#Applying GridSearchCV to get the best value for hyperparameters\n",
    "gridbag = GridSearchCV(bagg, hyperbag, cv = 3, verbose = 1, n_jobs = -1)\n",
    "bestbag = gridbag.fit(x_train, y_train)"
   ]
  },
  {
   "cell_type": "code",
   "execution_count": 41,
   "id": "d1a44a27",
   "metadata": {},
   "outputs": [
    {
     "name": "stdout",
     "output_type": "stream",
     "text": [
      "The best hyper parameters are:\n",
      " {'max_features': 5, 'max_samples': 100, 'n_estimators': 800}\n"
     ]
    }
   ],
   "source": [
    "#Printing the best hyperparameters\n",
    "print('The best hyper parameters are:\\n',gridbag.best_params_)"
   ]
  },
  {
   "cell_type": "markdown",
   "id": "38da207a",
   "metadata": {},
   "source": [
    "# Fitting Bagging Classifier with best Hyper parameters"
   ]
  },
  {
   "cell_type": "code",
   "execution_count": 42,
   "id": "c647bc65",
   "metadata": {},
   "outputs": [],
   "source": [
    "#Fitting the bagging model with the best hyper parameters obtained through GridSearchCV\n",
    "bagg1 = BaggingClassifier(max_features=5, max_samples=100,n_estimators= 1000)\n",
    "bagg1.fit(x_train,y_train)\n",
    "pred_bagg1 = bagg1.predict(x_test)"
   ]
  },
  {
   "cell_type": "code",
   "execution_count": 43,
   "id": "9720cf50",
   "metadata": {},
   "outputs": [
    {
     "name": "stdout",
     "output_type": "stream",
     "text": [
      "Checking different metrics for bagging model after tuning the hyperparameters:\n",
      "\n",
      "Training accuracy:  0.9637377963737797\n",
      "Testing accuracy:  0.9188311688311688\n",
      "Confusion Matrix: \n",
      " [[138  18]\n",
      " [  7 145]]\n",
      "ROC AUC score:  0.9192813765182186\n",
      "Classification Report: \n",
      "               precision    recall  f1-score   support\n",
      "\n",
      "           0       0.95      0.88      0.92       156\n",
      "           1       0.89      0.95      0.92       152\n",
      "\n",
      "    accuracy                           0.92       308\n",
      "   macro avg       0.92      0.92      0.92       308\n",
      "weighted avg       0.92      0.92      0.92       308\n",
      "\n"
     ]
    }
   ],
   "source": [
    "#Checking different metrics for bagging model after tuning the hyperparameters\n",
    "print('Checking different metrics for bagging model after tuning the hyperparameters:\\n')\n",
    "print(\"Training accuracy: \",bagg1.score(x_train,y_train))\n",
    "acc_score = accuracy_score(y_test, pred_bagg1)\n",
    "print('Testing accuracy: ',acc_score)\n",
    "conf_mat = confusion_matrix(y_test, pred_bagg1)\n",
    "print('Confusion Matrix: \\n',conf_mat)\n",
    "roc_auc = roc_auc_score(y_test1,pred_bagg1)\n",
    "print('ROC AUC score: ',roc_auc)\n",
    "class_rep2 = classification_report(y_test,pred_bagg1)\n",
    "print('Classification Report: \\n',class_rep2)"
   ]
  },
  {
   "cell_type": "code",
   "execution_count": 44,
   "id": "ee4ed51d",
   "metadata": {},
   "outputs": [
    {
     "name": "stdout",
     "output_type": "stream",
     "text": [
      "ROC AUC curve before and after tuning hyper parameters:\n",
      "\n"
     ]
    },
    {
     "data": {
      "image/png": "[encoded data removed]",
      "text/plain": [
       "<Figure size 432x288 with 1 Axes>"
      ]
     },
     "metadata": {
      "needs_background": "light"
     },
     "output_type": "display_data"
    }
   ],
   "source": [
    "#Plotting the ROC AUC curve before and after tuning hyper parameters\n",
    "print('ROC AUC curve before and after tuning hyper parameters:\\n')\n",
    "fpr_bag,tpr_bag,thre_bag = roc_curve(y_test1,pred_bagg)\n",
    "fpr_bag1,tpr_bag1,thre_bag1 = roc_curve(y_test1,pred_bagg1)\n",
    "plt.clf()\n",
    "ax = plt.subplot(111)\n",
    "ax.plot(fpr_bag, tpr_bag,label=\"Without hyper parameter tuning\")\n",
    "ax.plot(fpr_bag1, tpr_bag1,label=\"With hyper parameter tuning\")\n",
    "plt.xlabel('FPR')\n",
    "plt.ylabel('TPR')\n",
    "plt.title('ROC curve')\n",
    "ax.legend()\n",
    "plt.show()"
   ]
  },
  {
   "cell_type": "markdown",
   "id": "8c2b5e76",
   "metadata": {},
   "source": [
    "# Plotting validation curves for each hyper parameter"
   ]
  },
  {
   "cell_type": "code",
   "execution_count": 45,
   "id": "61a8b7ca",
   "metadata": {},
   "outputs": [],
   "source": [
    "#Plotting the validation curve of training and testing scores for n_estimators\n",
    "from sklearn.model_selection import validation_curve\n",
    "param_range= n_estimators\n",
    "train_scores, test_scores = validation_curve(\n",
    "                                BaggingClassifier(),\n",
    "                                X = x_train, y = y_train, \n",
    "                                param_name = 'n_estimators', \n",
    "                                param_range = param_range,cv = 3)"
   ]
  },
  {
   "cell_type": "code",
   "execution_count": 46,
   "id": "98647581",
   "metadata": {},
   "outputs": [
    {
     "data": {
      "image/png": "[encoded data removed]",
      "text/plain": [
       "<Figure size 432x288 with 1 Axes>"
      ]
     },
     "metadata": {
      "needs_background": "light"
     },
     "output_type": "display_data"
    }
   ],
   "source": [
    "#Calculate mean and standard deviation for training set\n",
    "train_mean = np.mean(train_scores, axis=1)\n",
    "train_std = np.std(train_scores, axis=1)\n",
    "\n",
    "#Calculate mean and standard deviation for testing set\n",
    "test_mean = np.mean(test_scores, axis=1)\n",
    "test_std = np.std(test_scores, axis=1)\n",
    "\n",
    "#Plot mean accuracy scores for training and testing sets\n",
    "plt.plot(param_range, train_mean, label=\"Training score\", color=\"black\")\n",
    "plt.plot(param_range, test_mean, label=\"Test score\", color=\"dimgrey\")\n",
    "\n",
    "#Create plot\n",
    "plt.title(\"Validation Curve of N Estimators for Bagging Classifier\")\n",
    "plt.xlabel(\"Value of N Estimators\")\n",
    "plt.ylabel(\"Accuracy Score\")\n",
    "plt.tight_layout()\n",
    "plt.legend(loc=\"best\")\n",
    "plt.show()"
   ]
  },
  {
   "cell_type": "markdown",
   "id": "817c4fb1",
   "metadata": {},
   "source": [
    "### Maximum Features"
   ]
  },
  {
   "cell_type": "code",
   "execution_count": 48,
   "id": "b0f181e9",
   "metadata": {},
   "outputs": [],
   "source": [
    "#Plotting the validation curve of training and testing scores for max_features\n",
    "from sklearn.model_selection import validation_curve\n",
    "param_range= max_features\n",
    "train_scores, test_scores = validation_curve(\n",
    "                                BaggingClassifier(),\n",
    "                                X = x_train, y = y_train, \n",
    "                                param_name = 'max_features', \n",
    "                                param_range = param_range,cv = 3)"
   ]
  },
  {
   "cell_type": "code",
   "execution_count": 49,
   "id": "0a655d6a",
   "metadata": {},
   "outputs": [
    {
     "data": {
      "image/png": "[encoded data removed]",
      "text/plain": [
       "<Figure size 432x288 with 1 Axes>"
      ]
     },
     "metadata": {
      "needs_background": "light"
     },
     "output_type": "display_data"
    }
   ],
   "source": [
    "#Calculate mean and standard deviation for training set\n",
    "train_mean = np.mean(train_scores, axis=1)\n",
    "train_std = np.std(train_scores, axis=1)\n",
    "\n",
    "#Calculate mean and standard deviation for testing set\n",
    "test_mean = np.mean(test_scores, axis=1)\n",
    "test_std = np.std(test_scores, axis=1)\n",
    "\n",
    "#Plot mean accuracy scores for training and testing sets\n",
    "plt.plot(param_range, train_mean, label=\"Training score\", color=\"black\")\n",
    "plt.plot(param_range, test_mean, label=\"Test score\", color=\"dimgrey\")\n",
    "\n",
    "#Create plot\n",
    "plt.title(\"Validation Curve of Maximum Features for Bagging Classifier\")\n",
    "plt.xlabel(\"Value of Minimum Sample Split\")\n",
    "plt.ylabel(\"Accuracy Score\")\n",
    "plt.tight_layout()\n",
    "plt.legend(loc=\"best\")\n",
    "plt.show()"
   ]
  },
  {
   "cell_type": "markdown",
   "id": "b14d4eec",
   "metadata": {},
   "source": [
    "### Maximum Samples"
   ]
  },
  {
   "cell_type": "code",
   "execution_count": 50,
   "id": "3533235b",
   "metadata": {},
   "outputs": [],
   "source": [
    "from sklearn.model_selection import validation_curve\n",
    "param_range= max_samples\n",
    "train_scores, test_scores = validation_curve(\n",
    "                                BaggingClassifier(),\n",
    "                                X = x_train, y = y_train, \n",
    "                                param_name = 'max_samples', \n",
    "                                param_range = param_range,cv = 3)"
   ]
  },
  {
   "cell_type": "code",
   "execution_count": 51,
   "id": "ba40d73e",
   "metadata": {},
   "outputs": [
    {
     "data": {
      "image/png": "[encoded data removed]",
      "text/plain": [
       "<Figure size 432x288 with 1 Axes>"
      ]
     },
     "metadata": {
      "needs_background": "light"
     },
     "output_type": "display_data"
    }
   ],
   "source": [
    "# Calculate mean and standard deviation for training set\n",
    "train_mean = np.mean(train_scores, axis=1)\n",
    "train_std = np.std(train_scores, axis=1)\n",
    "\n",
    "# Calculate mean and standard deviation for testing set\n",
    "test_mean = np.mean(test_scores, axis=1)\n",
    "test_std = np.std(test_scores, axis=1)\n",
    "\n",
    "# Plot mean accuracy scores for training and testing sets\n",
    "plt.plot(param_range, train_mean, label=\"Training score\", color=\"black\")\n",
    "plt.plot(param_range, test_mean, label=\"Test score\", color=\"dimgrey\")\n",
    "\n",
    "\n",
    "# Create plot\n",
    "plt.title(\"Validation Curve of Maximum Samples for Bagging Classifier\")\n",
    "plt.xlabel(\"Value of Minimum Sample Leaf\")\n",
    "plt.ylabel(\"Accuracy Score\")\n",
    "plt.tight_layout()\n",
    "plt.legend(loc=\"best\")\n",
    "plt.show()"
   ]
  },
  {
   "cell_type": "markdown",
   "id": "7fbd6c54",
   "metadata": {},
   "source": [
    "# Random Forest Classifier"
   ]
  },
  {
   "cell_type": "markdown",
   "id": "c7cc7fa8",
   "metadata": {},
   "source": [
    "### Without Hyper parameter Optimization"
   ]
  },
  {
   "cell_type": "code",
   "execution_count": 52,
   "id": "405ab715",
   "metadata": {},
   "outputs": [],
   "source": [
    "rf = RandomForestClassifier()\n",
    "rf.fit(x_train,y_train)\n",
    "pred_rf = rf.predict(x_test)"
   ]
  },
  {
   "cell_type": "code",
   "execution_count": 53,
   "id": "16b4444e",
   "metadata": {},
   "outputs": [
    {
     "name": "stdout",
     "output_type": "stream",
     "text": [
      "Checking different metrics for random forest model with default hyper parameters:\n",
      "\n",
      "Training accuracy:  1.0\n",
      "Testing accuracy:  0.9902597402597403\n",
      "Confusion Matrix: \n",
      " [[156   0]\n",
      " [  3 149]]\n",
      "ROC AUC score:  0.9901315789473684\n",
      "Classification Report: \n",
      "               precision    recall  f1-score   support\n",
      "\n",
      "           0       0.98      1.00      0.99       156\n",
      "           1       1.00      0.98      0.99       152\n",
      "\n",
      "    accuracy                           0.99       308\n",
      "   macro avg       0.99      0.99      0.99       308\n",
      "weighted avg       0.99      0.99      0.99       308\n",
      "\n"
     ]
    }
   ],
   "source": [
    "#Checking different metrics for random forest model with default hyper parameters\n",
    "print('Checking different metrics for random forest model with default hyper parameters:\\n')\n",
    "print(\"Training accuracy: \",rf.score(x_train,y_train))\n",
    "acc_score = accuracy_score(y_test, pred_rf)\n",
    "print('Testing accuracy: ',acc_score)\n",
    "conf_mat = confusion_matrix(y_test, pred_rf)\n",
    "print('Confusion Matrix: \\n',conf_mat)\n",
    "roc_auc = roc_auc_score(y_test1,pred_rf)\n",
    "print('ROC AUC score: ',roc_auc)\n",
    "class_rep3 = classification_report(y_test,pred_rf)\n",
    "print('Classification Report: \\n',class_rep3)"
   ]
  },
  {
   "cell_type": "markdown",
   "id": "74985267",
   "metadata": {},
   "source": [
    "### With Hyper parameter Optimization"
   ]
  },
  {
   "cell_type": "code",
   "execution_count": 54,
   "id": "d8cd37fd",
   "metadata": {},
   "outputs": [
    {
     "name": "stdout",
     "output_type": "stream",
     "text": [
      "Fitting 3 folds for each of 500 candidates, totalling 1500 fits\n"
     ]
    }
   ],
   "source": [
    "#Setting values for the parameters\n",
    "n_estimators = [100, 300, 500, 800, 1200]\n",
    "max_depth = [5, 10, 15, 25, 30]\n",
    "min_samples_split = [2, 5, 10, 15, 100]\n",
    "min_samples_leaf = [1, 2, 5, 10]\n",
    "\n",
    "#Creating a dictionary for the hyper parameters\n",
    "hyper_rf = dict(n_estimators = n_estimators, max_depth = max_depth, \n",
    "              min_samples_split = min_samples_split, min_samples_leaf = min_samples_leaf)\n",
    "\n",
    "#Applying GridSearchCV to get the best value for hyperparameters\n",
    "gridrf = GridSearchCV(rf, hyper_rf, cv = 3, verbose = 1, n_jobs = -1)\n",
    "bestrf = gridrf.fit(x_train, y_train)"
   ]
  },
  {
   "cell_type": "code",
   "execution_count": 56,
   "id": "b86f2ac0",
   "metadata": {},
   "outputs": [
    {
     "name": "stdout",
     "output_type": "stream",
     "text": [
      "The best hyper parameters are:\n",
      " {'max_depth': 25, 'min_samples_leaf': 1, 'min_samples_split': 2, 'n_estimators': 100}\n"
     ]
    }
   ],
   "source": [
    "#Printing the best hyperparameters\n",
    "print('The best hyper parameters are:\\n',gridrf.best_params_)"
   ]
  },
  {
   "cell_type": "code",
   "execution_count": 57,
   "id": "c8b91528",
   "metadata": {},
   "outputs": [],
   "source": [
    "#Fitting the random forest model with the best hyper parameters obtained through GridSearchCV\n",
    "rf1 = RandomForestClassifier(max_depth=25, min_samples_leaf=1, min_samples_split=2, n_estimators=100)\n",
    "rf1.fit(x_train,y_train)\n",
    "pred_rf1 = rf1.predict(x_test)"
   ]
  },
  {
   "cell_type": "code",
   "execution_count": 58,
   "id": "5604df80",
   "metadata": {},
   "outputs": [
    {
     "name": "stdout",
     "output_type": "stream",
     "text": [
      "ROC AUC curve before and after tuning hyper parameters:\n",
      "\n"
     ]
    },
    {
     "data": {
      "image/png": "[encoded data removed]",
      "text/plain": [
       "<Figure size 432x288 with 1 Axes>"
      ]
     },
     "metadata": {
      "needs_background": "light"
     },
     "output_type": "display_data"
    }
   ],
   "source": [
    "#Plotting the ROC AUC curve before and after tuning hyper parameters\n",
    "print('ROC AUC curve before and after tuning hyper parameters:\\n')\n",
    "fpr_rf,tpr_rf,thre_rf = roc_curve(y_test,pred_rf)\n",
    "fpr_rf1,tpr_rf1,thre_rf1 = roc_curve(y_test1,pred_rf1)\n",
    "plt.clf()\n",
    "ax = plt.subplot(111)\n",
    "ax.plot(fpr_rf, tpr_rf,label=\"Without hyper parameter tuning\")\n",
    "ax.plot(fpr_rf1, tpr_rf1,label=\"With hyper parameter tuning\")\n",
    "plt.xlabel('FPR')\n",
    "plt.ylabel('TPR')\n",
    "plt.title('ROC curve')\n",
    "ax.legend()\n",
    "plt.show()"
   ]
  },
  {
   "cell_type": "markdown",
   "id": "b2540226",
   "metadata": {},
   "source": [
    "# Plotting validation curves for each hyper parameter"
   ]
  },
  {
   "cell_type": "markdown",
   "id": "1b4c89bc",
   "metadata": {},
   "source": [
    "### N Estimators"
   ]
  },
  {
   "cell_type": "code",
   "execution_count": 59,
   "id": "608b8aba",
   "metadata": {},
   "outputs": [],
   "source": [
    "#Plotting the validation curve of training and testing scores for n_estimators\n",
    "from sklearn.model_selection import validation_curve\n",
    "param_range= n_estimators\n",
    "train_scores, test_scores = validation_curve(\n",
    "                                RandomForestClassifier(),\n",
    "                                X = x_train, y = y_train, \n",
    "                                param_name = 'n_estimators', \n",
    "                                param_range = param_range,cv = 3)"
   ]
  },
  {
   "cell_type": "code",
   "execution_count": 60,
   "id": "308f9d86",
   "metadata": {},
   "outputs": [
    {
     "data": {
      "image/png": "[encoded data removed]",
      "text/plain": [
       "<Figure size 432x288 with 1 Axes>"
      ]
     },
     "metadata": {
      "needs_background": "light"
     },
     "output_type": "display_data"
    }
   ],
   "source": [
    "#Calculate mean and standard deviation for training set\n",
    "train_mean = np.mean(train_scores, axis=1)\n",
    "train_std = np.std(train_scores, axis=1)\n",
    "\n",
    "#Calculate mean and standard deviation for testing set\n",
    "test_mean = np.mean(test_scores, axis=1)\n",
    "test_std = np.std(test_scores, axis=1)\n",
    "\n",
    "#Plot mean accuracy scores for training and testing sets\n",
    "plt.plot(param_range, train_mean, label=\"Training score\", color=\"black\")\n",
    "plt.plot(param_range, test_mean, label=\"Test score\", color=\"dimgrey\")\n",
    "\n",
    "#Create plot\n",
    "plt.title(\"Validation Curve of N Estimators for Random Forest Classifier\")\n",
    "plt.xlabel(\"Value of N Estimators\")\n",
    "plt.ylabel(\"Accuracy Score\")\n",
    "plt.tight_layout()\n",
    "plt.legend(loc=\"best\")\n",
    "plt.show()"
   ]
  },
  {
   "cell_type": "markdown",
   "id": "de9bdfaf",
   "metadata": {},
   "source": [
    "### Maximum Depth"
   ]
  },
  {
   "cell_type": "code",
   "execution_count": 61,
   "id": "68c4130c",
   "metadata": {},
   "outputs": [],
   "source": [
    "#Plotting the validation curve of training and testing scores for max_depth\n",
    "from sklearn.model_selection import validation_curve\n",
    "param_range= max_depth\n",
    "train_scores, test_scores = validation_curve(\n",
    "                                RandomForestClassifier(),\n",
    "                                X = x_train, y = y_train, \n",
    "                                param_name = 'max_depth', \n",
    "                                param_range = param_range,cv = 3)"
   ]
  },
  {
   "cell_type": "code",
   "execution_count": 62,
   "id": "1f32e270",
   "metadata": {},
   "outputs": [
    {
     "data": {
      "image/png": "[encoded data removed]",
      "text/plain": [
       "<Figure size 432x288 with 1 Axes>"
      ]
     },
     "metadata": {
      "needs_background": "light"
     },
     "output_type": "display_data"
    }
   ],
   "source": [
    "#Calculate mean and standard deviation for training set\n",
    "train_mean = np.mean(train_scores, axis=1)\n",
    "train_std = np.std(train_scores, axis=1)\n",
    "\n",
    "#Calculate mean and standard deviation for testing set\n",
    "test_mean = np.mean(test_scores, axis=1)\n",
    "test_std = np.std(test_scores, axis=1)\n",
    "\n",
    "#Plot mean accuracy scores for training and testing sets\n",
    "plt.plot(param_range, train_mean, label=\"Training score\", color=\"black\")\n",
    "plt.plot(param_range, test_mean, label=\"Test score\", color=\"dimgrey\")\n",
    "\n",
    "#Create plot\n",
    "plt.title(\"Validation Curve of Max Depth for Random Forest Classifier\")\n",
    "plt.xlabel(\"Value of Maximum Depth\")\n",
    "plt.ylabel(\"Accuracy Score\")\n",
    "plt.tight_layout()\n",
    "plt.legend(loc=\"best\")\n",
    "plt.show()"
   ]
  },
  {
   "cell_type": "markdown",
   "id": "2334e753",
   "metadata": {},
   "source": [
    "# Minimum Sample Split"
   ]
  },
  {
   "cell_type": "code",
   "execution_count": 64,
   "id": "22a6697e",
   "metadata": {},
   "outputs": [],
   "source": [
    "#Plotting the validation curve of training and testing scores for min_samples_split\n",
    "from sklearn.model_selection import validation_curve\n",
    "param_range= min_samples_split\n",
    "train_scores, test_scores = validation_curve(\n",
    "                                RandomForestClassifier(),\n",
    "                                X = x_train, y = y_train, \n",
    "                                param_name = 'min_samples_split', \n",
    "                                param_range = param_range,cv = 3)"
   ]
  },
  {
   "cell_type": "code",
   "execution_count": 65,
   "id": "bfde9dec",
   "metadata": {},
   "outputs": [
    {
     "data": {
      "image/png": "[encoded data removed]",
      "text/plain": [
       "<Figure size 432x288 with 1 Axes>"
      ]
     },
     "metadata": {
      "needs_background": "light"
     },
     "output_type": "display_data"
    }
   ],
   "source": [
    "#Calculate mean and standard deviation for training set\n",
    "train_mean = np.mean(train_scores, axis=1)\n",
    "train_std = np.std(train_scores, axis=1)\n",
    "\n",
    "#Calculate mean and standard deviation for testing set\n",
    "test_mean = np.mean(test_scores, axis=1)\n",
    "test_std = np.std(test_scores, axis=1)\n",
    "\n",
    "#Plot mean accuracy scores for training and testing sets\n",
    "plt.plot(param_range, train_mean, label=\"Training score\", color=\"black\")\n",
    "plt.plot(param_range, test_mean, label=\"Test score\", color=\"dimgrey\")\n",
    "\n",
    "#Create plot\n",
    "plt.title(\"Validation Curve of Minimum Sample Split for Random Forest Classifier\")\n",
    "plt.xlabel(\"Value of Minimum Sample Split\")\n",
    "plt.ylabel(\"Accuracy Score\")\n",
    "plt.tight_layout()\n",
    "plt.legend(loc=\"best\")\n",
    "plt.show()"
   ]
  },
  {
   "cell_type": "markdown",
   "id": "87e88bae",
   "metadata": {},
   "source": [
    "# Minimum Sample Leaf"
   ]
  },
  {
   "cell_type": "code",
   "execution_count": 66,
   "id": "db1df7db",
   "metadata": {},
   "outputs": [],
   "source": [
    "#Plotting the validation curve of training and testing scores for min_samples_leaf\n",
    "from sklearn.model_selection import validation_curve\n",
    "param_range= min_samples_leaf\n",
    "train_scores, test_scores = validation_curve(\n",
    "                                RandomForestClassifier(),\n",
    "                                X = x_train, y = y_train, \n",
    "                                param_name = 'min_samples_leaf', \n",
    "                                param_range = param_range,cv = 3)"
   ]
  },
  {
   "cell_type": "code",
   "execution_count": 67,
   "id": "d5b36940",
   "metadata": {},
   "outputs": [
    {
     "data": {
      "image/png": "[encoded data removed]",
      "text/plain": [
       "<Figure size 432x288 with 1 Axes>"
      ]
     },
     "metadata": {
      "needs_background": "light"
     },
     "output_type": "display_data"
    }
   ],
   "source": [
    "#Calculate mean and standard deviation for training set\n",
    "train_mean = np.mean(train_scores, axis=1)\n",
    "train_std = np.std(train_scores, axis=1)\n",
    "\n",
    "#Calculate mean and standard deviation for testing set\n",
    "test_mean = np.mean(test_scores, axis=1)\n",
    "test_std = np.std(test_scores, axis=1)\n",
    "\n",
    "#Plot mean accuracy scores for training and testing sets\n",
    "plt.plot(param_range, train_mean, label=\"Training score\", color=\"black\")\n",
    "plt.plot(param_range, test_mean, label=\"Test score\", color=\"dimgrey\")\n",
    "\n",
    "\n",
    "#Create plot\n",
    "plt.title(\"Validation Curve of Minimum Sample Leaf for Random Forest Classifier\")\n",
    "plt.xlabel(\"Value of Minimum Sample Leaf\")\n",
    "plt.ylabel(\"Accuracy Score\")\n",
    "plt.tight_layout()\n",
    "plt.legend(loc=\"best\")\n",
    "plt.show()"
   ]
  },
  {
   "cell_type": "code",
   "execution_count": null,
   "id": "2c2fa0eb",
   "metadata": {},
   "outputs": [],
   "source": []
  }
 ],
 "metadata": {
  "kernelspec": {
   "display_name": "Python 3",
   "language": "python",
   "name": "python3"
  },
  "language_info": {
   "codemirror_mode": {
    "name": "ipython",
    "version": 3
   },
   "file_extension": ".py",
   "mimetype": "text/x-python",
   "name": "python",
   "nbconvert_exporter": "python",
   "pygments_lexer": "ipython3",
   "version": "3.8.8"
  }
 },
 "nbformat": 4,
 "nbformat_minor": 5
}
